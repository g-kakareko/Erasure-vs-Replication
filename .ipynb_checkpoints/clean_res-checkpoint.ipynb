{
 "cells": [
  {
   "cell_type": "code",
   "execution_count": 1,
   "metadata": {},
   "outputs": [],
   "source": [
    "import numpy as np\n",
    "import pandas as pd\n",
    "# %M     Maximum resident set size of the process during its lifetime,in Kbytes."
   ]
  },
  {
   "cell_type": "code",
   "execution_count": 5,
   "metadata": {},
   "outputs": [],
   "source": [
    "def decode_to_csv(raw_fname, csv_fname):\n",
    "    with open(raw_fname) as f:\n",
    "        content = f.readlines()\n",
    "    content = [x.strip() for x in content] \n",
    "    time = content[0::2]\n",
    "    memory = content[1::2]\n",
    "    memory = [i.split()[1] for i in memory]\n",
    "    memory = np.array(memory)\n",
    "    time = np.array(time)\n",
    "    df = pd.DataFrame(columns = ['time', 'memory']) \n",
    "    \n",
    "    df['time'] = time[:100]\n",
    "    df['memory'] = memory[:100]\n",
    "    df.to_csv(csv_fname, index=False)\n",
    "    return"
   ]
  },
  {
   "cell_type": "code",
   "execution_count": 6,
   "metadata": {},
   "outputs": [],
   "source": [
    "raw_fname = 'raw_results/rep_small.txt'\n",
    "csv_fname = 'res_csv/rep_small.csv'\n",
    "decode_to_csv(raw_fname, csv_fname)"
   ]
  },
  {
   "cell_type": "code",
   "execution_count": 7,
   "metadata": {},
   "outputs": [],
   "source": [
    "raw_fname = 'raw_results/rep_med.txt'\n",
    "csv_fname = 'res_csv/rep_med.csv'\n",
    "decode_to_csv(raw_fname, csv_fname)"
   ]
  },
  {
   "cell_type": "code",
   "execution_count": 8,
   "metadata": {},
   "outputs": [],
   "source": [
    "raw_fname = 'raw_results/rep_large.txt'\n",
    "csv_fname = 'res_csv/rep_large.csv'\n",
    "decode_to_csv(raw_fname, csv_fname)"
   ]
  },
  {
   "cell_type": "code",
   "execution_count": 9,
   "metadata": {},
   "outputs": [],
   "source": [
    "raw_fname = 'raw_results/jes_small.txt'\n",
    "csv_fname = 'res_csv/jes_small.csv'\n",
    "decode_to_csv(raw_fname, csv_fname)"
   ]
  },
  {
   "cell_type": "code",
   "execution_count": 10,
   "metadata": {},
   "outputs": [],
   "source": [
    "raw_fname = 'raw_results/jes_med.txt'\n",
    "csv_fname = 'res_csv/jes_med.csv'\n",
    "decode_to_csv(raw_fname, csv_fname)"
   ]
  },
  {
   "cell_type": "code",
   "execution_count": 11,
   "metadata": {},
   "outputs": [],
   "source": [
    "raw_fname = 'raw_results/jes_large.txt'\n",
    "csv_fname = 'res_csv/jes_large.csv'\n",
    "decode_to_csv(raw_fname, csv_fname)"
   ]
  },
  {
   "cell_type": "code",
   "execution_count": null,
   "metadata": {},
   "outputs": [],
   "source": []
  }
 ],
 "metadata": {
  "kernelspec": {
   "display_name": "Python 3",
   "language": "python",
   "name": "python3"
  },
  "language_info": {
   "codemirror_mode": {
    "name": "ipython",
    "version": 3
   },
   "file_extension": ".py",
   "mimetype": "text/x-python",
   "name": "python",
   "nbconvert_exporter": "python",
   "pygments_lexer": "ipython3",
   "version": "3.7.0"
  }
 },
 "nbformat": 4,
 "nbformat_minor": 2
}
